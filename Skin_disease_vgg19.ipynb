{
  "nbformat": 4,
  "nbformat_minor": 0,
  "metadata": {
    "colab": {
      "provenance": [],
      "gpuType": "T4",
      "authorship_tag": "ABX9TyO2YKSIf6K9hn99Oxw+YcXM",
      "include_colab_link": true
    },
    "kernelspec": {
      "name": "python3",
      "display_name": "Python 3"
    },
    "language_info": {
      "name": "python"
    },
    "accelerator": "GPU"
  },
  "cells": [
    {
      "cell_type": "markdown",
      "metadata": {
        "id": "view-in-github",
        "colab_type": "text"
      },
      "source": [
        "<a href=\"https://colab.research.google.com/github/anmolpandeybtech/Skin_Disease_Hackathon/blob/main/Skin_disease_vgg19.ipynb\" target=\"_parent\"><img src=\"https://colab.research.google.com/assets/colab-badge.svg\" alt=\"Open In Colab\"/></a>"
      ]
    },
    {
      "cell_type": "code",
      "execution_count": 1,
      "metadata": {
        "colab": {
          "base_uri": "https://localhost:8080/",
          "height": 17
        },
        "id": "9s9gZ-6POMQc",
        "outputId": "629d40ba-9ec7-461d-caf5-bed032d29f93"
      },
      "outputs": [
        {
          "output_type": "display_data",
          "data": {
            "text/plain": [
              "<IPython.core.display.Javascript object>"
            ],
            "application/javascript": [
              "\n",
              "    function ClickConnect(){\n",
              "        console.log(\"Working\");\n",
              "        document.querySelector(\"colab-toolbar-button#connect\").click()\n",
              "    }\n",
              "    setInterval(ClickConnect,60000)\n",
              "    "
            ]
          },
          "metadata": {}
        }
      ],
      "source": [
        "from IPython.display import Javascript\n",
        "\n",
        "def disable_colab_idle_timeout():\n",
        "    js_code = '''\n",
        "    function ClickConnect(){\n",
        "        console.log(\"Working\");\n",
        "        document.querySelector(\"colab-toolbar-button#connect\").click()\n",
        "    }\n",
        "    setInterval(ClickConnect,60000)\n",
        "    '''\n",
        "    display(Javascript(js_code))\n",
        "\n",
        "disable_colab_idle_timeout()"
      ]
    },
    {
      "cell_type": "code",
      "source": [],
      "metadata": {
        "id": "A7k1X7_KOe4f"
      },
      "execution_count": null,
      "outputs": []
    }
  ]
}