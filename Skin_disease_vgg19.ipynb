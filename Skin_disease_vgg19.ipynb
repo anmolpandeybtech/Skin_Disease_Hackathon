{
  "nbformat": 4,
  "nbformat_minor": 0,
  "metadata": {
    "colab": {
      "provenance": [],
      "gpuType": "T4",
      "authorship_tag": "ABX9TyP+e6Wx76Rn3NZl/tLyBXPx",
      "include_colab_link": true
    },
    "kernelspec": {
      "name": "python3",
      "display_name": "Python 3"
    },
    "language_info": {
      "name": "python"
    },
    "accelerator": "GPU"
  },
  "cells": [
    {
      "cell_type": "markdown",
      "metadata": {
        "id": "view-in-github",
        "colab_type": "text"
      },
      "source": [
        "<a href=\"https://colab.research.google.com/github/anmolpandeybtech/Skin_Disease_Hackathon/blob/main/Skin_disease_vgg19.ipynb\" target=\"_parent\"><img src=\"https://colab.research.google.com/assets/colab-badge.svg\" alt=\"Open In Colab\"/></a>"
      ]
    },
    {
      "cell_type": "code",
      "execution_count": 1,
      "metadata": {
        "colab": {
          "base_uri": "https://localhost:8080/",
          "height": 17
        },
        "id": "9s9gZ-6POMQc",
        "outputId": "629d40ba-9ec7-461d-caf5-bed032d29f93"
      },
      "outputs": [
        {
          "output_type": "display_data",
          "data": {
            "text/plain": [
              "<IPython.core.display.Javascript object>"
            ],
            "application/javascript": [
              "\n",
              "    function ClickConnect(){\n",
              "        console.log(\"Working\");\n",
              "        document.querySelector(\"colab-toolbar-button#connect\").click()\n",
              "    }\n",
              "    setInterval(ClickConnect,60000)\n",
              "    "
            ]
          },
          "metadata": {}
        }
      ],
      "source": [
        "from IPython.display import Javascript\n",
        "\n",
        "def disable_colab_idle_timeout():\n",
        "    js_code = '''\n",
        "    function ClickConnect(){\n",
        "        console.log(\"Working\");\n",
        "        document.querySelector(\"colab-toolbar-button#connect\").click()\n",
        "    }\n",
        "    setInterval(ClickConnect,60000)\n",
        "    '''\n",
        "    display(Javascript(js_code))\n",
        "\n",
        "disable_colab_idle_timeout()"
      ]
    },
    {
      "cell_type": "code",
      "source": [
        "!mkdir -p ~/.kaggle\n",
        "!cp kaggle.json ~/.kaggle/"
      ],
      "metadata": {
        "id": "A7k1X7_KOe4f"
      },
      "execution_count": 2,
      "outputs": []
    },
    {
      "cell_type": "code",
      "source": [
        "!kaggle datasets download -d ascanipek/skin-diseases"
      ],
      "metadata": {
        "colab": {
          "base_uri": "https://localhost:8080/"
        },
        "id": "aeEfATybO8Yx",
        "outputId": "0e7b65e7-d22b-4b56-d086-96174dcc0f21"
      },
      "execution_count": 3,
      "outputs": [
        {
          "output_type": "stream",
          "name": "stdout",
          "text": [
            "Warning: Your Kaggle API key is readable by other users on this system! To fix this, you can run 'chmod 600 /root/.kaggle/kaggle.json'\n",
            "Downloading skin-diseases.zip to /content\n",
            "100% 6.17G/6.18G [00:55<00:00, 202MB/s]\n",
            "100% 6.18G/6.18G [00:55<00:00, 119MB/s]\n"
          ]
        }
      ]
    },
    {
      "cell_type": "code",
      "source": [
        "import zipfile\n",
        "zip_ref = zipfile.ZipFile('/content/skin-diseases.zip', 'r')\n",
        "zip_ref.extractall('/content')\n",
        "zip_ref.close()"
      ],
      "metadata": {
        "id": "EbVGNtIxO-Th"
      },
      "execution_count": 4,
      "outputs": []
    },
    {
      "cell_type": "code",
      "source": [
        "from keras import backend\n",
        "import tensorflow as tf\n",
        "from tensorflow.keras.applications import VGG19\n",
        "from tensorflow.keras.layers import Dense, GlobalAveragePooling2D\n",
        "from tensorflow.keras.models import Model\n",
        "from tensorflow.keras.optimizers import Adam\n",
        "from tensorflow.keras.preprocessing.image import ImageDataGenerator\n",
        "\n"
      ],
      "metadata": {
        "id": "dkJf1iZFPNJl"
      },
      "execution_count": 5,
      "outputs": []
    },
    {
      "cell_type": "code",
      "source": [
        "input_size = (224, 224, 3)\n",
        "\n",
        "base_model = VGG19(weights='imagenet', include_top=False, input_shape=input_size)\n",
        "for layer in base_model.layers:\n",
        "    layer.trainable = False"
      ],
      "metadata": {
        "colab": {
          "base_uri": "https://localhost:8080/"
        },
        "id": "_4_wBUsHPqF8",
        "outputId": "92ab8d96-ddde-4a6a-8dbb-4f875ca01de6"
      },
      "execution_count": 6,
      "outputs": [
        {
          "output_type": "stream",
          "name": "stdout",
          "text": [
            "Downloading data from https://storage.googleapis.com/tensorflow/keras-applications/vgg19/vgg19_weights_tf_dim_ordering_tf_kernels_notop.h5\n",
            "80134624/80134624 [==============================] - 0s 0us/step\n"
          ]
        }
      ]
    },
    {
      "cell_type": "code",
      "source": [
        "x = base_model.output\n",
        "x = GlobalAveragePooling2D()(x)\n",
        "x = Dense(1024, activation='relu')(x)\n",
        "x = Dense(512, activation='relu')(x)\n",
        "num_classes = 6  # Replace with the number of skin disease classes\n",
        "predictions = Dense(num_classes, activation='softmax')(x)"
      ],
      "metadata": {
        "id": "hOzBfJFOQjzS"
      },
      "execution_count": 7,
      "outputs": []
    },
    {
      "cell_type": "code",
      "source": [
        "model = Model(inputs=base_model.input, outputs=predictions)"
      ],
      "metadata": {
        "id": "flmP3TUvQot2"
      },
      "execution_count": 8,
      "outputs": []
    },
    {
      "cell_type": "code",
      "source": [
        "model.summary()"
      ],
      "metadata": {
        "colab": {
          "base_uri": "https://localhost:8080/"
        },
        "id": "ef3SY9ESQsmC",
        "outputId": "d49c5592-379d-4bba-b745-abcf92478eb6"
      },
      "execution_count": 9,
      "outputs": [
        {
          "output_type": "stream",
          "name": "stdout",
          "text": [
            "Model: \"model\"\n",
            "_________________________________________________________________\n",
            " Layer (type)                Output Shape              Param #   \n",
            "=================================================================\n",
            " input_1 (InputLayer)        [(None, 224, 224, 3)]     0         \n",
            "                                                                 \n",
            " block1_conv1 (Conv2D)       (None, 224, 224, 64)      1792      \n",
            "                                                                 \n",
            " block1_conv2 (Conv2D)       (None, 224, 224, 64)      36928     \n",
            "                                                                 \n",
            " block1_pool (MaxPooling2D)  (None, 112, 112, 64)      0         \n",
            "                                                                 \n",
            " block2_conv1 (Conv2D)       (None, 112, 112, 128)     73856     \n",
            "                                                                 \n",
            " block2_conv2 (Conv2D)       (None, 112, 112, 128)     147584    \n",
            "                                                                 \n",
            " block2_pool (MaxPooling2D)  (None, 56, 56, 128)       0         \n",
            "                                                                 \n",
            " block3_conv1 (Conv2D)       (None, 56, 56, 256)       295168    \n",
            "                                                                 \n",
            " block3_conv2 (Conv2D)       (None, 56, 56, 256)       590080    \n",
            "                                                                 \n",
            " block3_conv3 (Conv2D)       (None, 56, 56, 256)       590080    \n",
            "                                                                 \n",
            " block3_conv4 (Conv2D)       (None, 56, 56, 256)       590080    \n",
            "                                                                 \n",
            " block3_pool (MaxPooling2D)  (None, 28, 28, 256)       0         \n",
            "                                                                 \n",
            " block4_conv1 (Conv2D)       (None, 28, 28, 512)       1180160   \n",
            "                                                                 \n",
            " block4_conv2 (Conv2D)       (None, 28, 28, 512)       2359808   \n",
            "                                                                 \n",
            " block4_conv3 (Conv2D)       (None, 28, 28, 512)       2359808   \n",
            "                                                                 \n",
            " block4_conv4 (Conv2D)       (None, 28, 28, 512)       2359808   \n",
            "                                                                 \n",
            " block4_pool (MaxPooling2D)  (None, 14, 14, 512)       0         \n",
            "                                                                 \n",
            " block5_conv1 (Conv2D)       (None, 14, 14, 512)       2359808   \n",
            "                                                                 \n",
            " block5_conv2 (Conv2D)       (None, 14, 14, 512)       2359808   \n",
            "                                                                 \n",
            " block5_conv3 (Conv2D)       (None, 14, 14, 512)       2359808   \n",
            "                                                                 \n",
            " block5_conv4 (Conv2D)       (None, 14, 14, 512)       2359808   \n",
            "                                                                 \n",
            " block5_pool (MaxPooling2D)  (None, 7, 7, 512)         0         \n",
            "                                                                 \n",
            " global_average_pooling2d (  (None, 512)               0         \n",
            " GlobalAveragePooling2D)                                         \n",
            "                                                                 \n",
            " dense (Dense)               (None, 1024)              525312    \n",
            "                                                                 \n",
            " dense_1 (Dense)             (None, 512)               524800    \n",
            "                                                                 \n",
            " dense_2 (Dense)             (None, 6)                 3078      \n",
            "                                                                 \n",
            "=================================================================\n",
            "Total params: 21077574 (80.40 MB)\n",
            "Trainable params: 1053190 (4.02 MB)\n",
            "Non-trainable params: 20024384 (76.39 MB)\n",
            "_________________________________________________________________\n"
          ]
        }
      ]
    },
    {
      "cell_type": "code",
      "source": [
        "model.compile(optimizer=Adam(learning_rate=0.0001), loss='categorical_crossentropy', metrics=['accuracy'])"
      ],
      "metadata": {
        "id": "92-KHtnRQxeP"
      },
      "execution_count": 11,
      "outputs": []
    },
    {
      "cell_type": "code",
      "source": [
        "train_datagen = ImageDataGenerator(\n",
        "    rescale=1./255,\n",
        "    rotation_range=30,\n",
        "    width_shift_range=0.1,\n",
        "    height_shift_range=0.1,\n",
        "    shear_range=0.2,\n",
        "    zoom_range=0.2,\n",
        "    horizontal_flip=True,\n",
        "    fill_mode='nearest'\n",
        ")"
      ],
      "metadata": {
        "id": "DyjgYIaHQ5ki"
      },
      "execution_count": 12,
      "outputs": []
    },
    {
      "cell_type": "code",
      "source": [
        "test_datagen = ImageDataGenerator(rescale=1./255)"
      ],
      "metadata": {
        "id": "3eU4kOucRO5o"
      },
      "execution_count": 13,
      "outputs": []
    },
    {
      "cell_type": "code",
      "source": [
        "batch_size = 32\n",
        "num_epochs = 15"
      ],
      "metadata": {
        "id": "cAWDUgj7RQyC"
      },
      "execution_count": 15,
      "outputs": []
    },
    {
      "cell_type": "code",
      "source": [
        "train_generator = train_datagen.flow_from_directory(\n",
        "    '/content/kaggle/train',\n",
        "    target_size=input_size[:2],\n",
        "    batch_size=batch_size,\n",
        "    class_mode='categorical'\n",
        ")\n",
        "\n",
        "validation_generator = test_datagen.flow_from_directory(\n",
        "    '/content/kaggle/val',  # Replace with the path to your validation dataset\n",
        "    target_size=input_size[:2],\n",
        "    batch_size=batch_size,\n",
        "    class_mode='categorical'\n",
        ")\n",
        "\n",
        "test_generator = test_datagen.flow_from_directory(\n",
        "    '/content/kaggle/test',\n",
        "    target_size=input_size[:2],\n",
        "    batch_size=batch_size,\n",
        "    class_mode='categorical'\n",
        ")"
      ],
      "metadata": {
        "colab": {
          "base_uri": "https://localhost:8080/"
        },
        "id": "GK19KD9hRR2r",
        "outputId": "37601b46-10ac-4c46-dad7-26d8d56c4f4f"
      },
      "execution_count": 16,
      "outputs": [
        {
          "output_type": "stream",
          "name": "stdout",
          "text": [
            "Found 30909 images belonging to 6 classes.\n",
            "Found 3923 images belonging to 6 classes.\n",
            "Found 3928 images belonging to 6 classes.\n"
          ]
        }
      ]
    },
    {
      "cell_type": "code",
      "source": [
        "from tensorflow.keras.callbacks import ModelCheckpoint"
      ],
      "metadata": {
        "id": "XGp-cygCSfRT"
      },
      "execution_count": 17,
      "outputs": []
    },
    {
      "cell_type": "code",
      "source": [
        "checkpoint = ModelCheckpoint('best_skin_disease_vgg19.h5', save_best_only=True, monitor='val_accuracy', mode='max', verbose=1)"
      ],
      "metadata": {
        "id": "obG9RCvbSg1D"
      },
      "execution_count": 18,
      "outputs": []
    },
    {
      "cell_type": "code",
      "source": [
        "model.fit(\n",
        "    train_generator,\n",
        "    steps_per_epoch=train_generator.samples // batch_size,\n",
        "    validation_data=validation_generator,\n",
        "    validation_steps=validation_generator.samples // batch_size,\n",
        "    epochs=num_epochs,\n",
        "    callbacks=[checkpoint]\n",
        ")"
      ],
      "metadata": {
        "colab": {
          "base_uri": "https://localhost:8080/"
        },
        "id": "LltX3cKfSJM-",
        "outputId": "45de86d3-ffd8-430d-f51f-91eecf7da4b7"
      },
      "execution_count": null,
      "outputs": [
        {
          "output_type": "stream",
          "name": "stdout",
          "text": [
            "Epoch 1/15\n",
            "965/965 [==============================] - ETA: 0s - loss: 1.3243 - accuracy: 0.4486\n",
            "Epoch 1: val_accuracy improved from -inf to 0.48745, saving model to best_skin_disease_vgg19.h5\n",
            "965/965 [==============================] - 616s 624ms/step - loss: 1.3243 - accuracy: 0.4486 - val_loss: 1.2225 - val_accuracy: 0.4874\n"
          ]
        },
        {
          "output_type": "stream",
          "name": "stderr",
          "text": [
            "/usr/local/lib/python3.10/dist-packages/keras/src/engine/training.py:3000: UserWarning: You are saving your model as an HDF5 file via `model.save()`. This file format is considered legacy. We recommend using instead the native Keras format, e.g. `model.save('my_model.keras')`.\n",
            "  saving_api.save_model(\n"
          ]
        },
        {
          "output_type": "stream",
          "name": "stdout",
          "text": [
            "Epoch 2/15\n",
            "965/965 [==============================] - ETA: 0s - loss: 1.1959 - accuracy: 0.5031\n",
            "Epoch 2: val_accuracy improved from 0.48745 to 0.52382, saving model to best_skin_disease_vgg19.h5\n",
            "965/965 [==============================] - 599s 620ms/step - loss: 1.1959 - accuracy: 0.5031 - val_loss: 1.1973 - val_accuracy: 0.5238\n",
            "Epoch 3/15\n",
            "965/965 [==============================] - ETA: 0s - loss: 1.1394 - accuracy: 0.5295\n",
            "Epoch 3: val_accuracy improved from 0.52382 to 0.53663, saving model to best_skin_disease_vgg19.h5\n",
            "965/965 [==============================] - 585s 606ms/step - loss: 1.1394 - accuracy: 0.5295 - val_loss: 1.1458 - val_accuracy: 0.5366\n",
            "Epoch 4/15\n",
            "965/965 [==============================] - ETA: 0s - loss: 1.1037 - accuracy: 0.5462\n",
            "Epoch 4: val_accuracy improved from 0.53663 to 0.56506, saving model to best_skin_disease_vgg19.h5\n",
            "965/965 [==============================] - 587s 608ms/step - loss: 1.1037 - accuracy: 0.5462 - val_loss: 1.1057 - val_accuracy: 0.5651\n",
            "Epoch 5/15\n",
            "965/965 [==============================] - ETA: 0s - loss: 1.0815 - accuracy: 0.5536\n",
            "Epoch 5: val_accuracy improved from 0.56506 to 0.57659, saving model to best_skin_disease_vgg19.h5\n",
            "965/965 [==============================] - 584s 605ms/step - loss: 1.0815 - accuracy: 0.5536 - val_loss: 1.0905 - val_accuracy: 0.5766\n",
            "Epoch 6/15\n",
            "965/965 [==============================] - ETA: 0s - loss: 1.0603 - accuracy: 0.5656\n",
            "Epoch 6: val_accuracy improved from 0.57659 to 0.58171, saving model to best_skin_disease_vgg19.h5\n",
            "965/965 [==============================] - 583s 604ms/step - loss: 1.0603 - accuracy: 0.5656 - val_loss: 1.0516 - val_accuracy: 0.5817\n",
            "Epoch 7/15\n",
            "965/965 [==============================] - ETA: 0s - loss: 1.0469 - accuracy: 0.5696\n",
            "Epoch 7: val_accuracy improved from 0.58171 to 0.59042, saving model to best_skin_disease_vgg19.h5\n",
            "965/965 [==============================] - 584s 605ms/step - loss: 1.0469 - accuracy: 0.5696 - val_loss: 1.0274 - val_accuracy: 0.5904\n",
            "Epoch 8/15\n",
            "965/965 [==============================] - ETA: 0s - loss: 1.0335 - accuracy: 0.5790\n",
            "Epoch 8: val_accuracy improved from 0.59042 to 0.59221, saving model to best_skin_disease_vgg19.h5\n",
            "965/965 [==============================] - 588s 609ms/step - loss: 1.0335 - accuracy: 0.5790 - val_loss: 1.0351 - val_accuracy: 0.5922\n",
            "Epoch 9/15\n",
            "965/965 [==============================] - ETA: 0s - loss: 1.0179 - accuracy: 0.5855\n",
            "Epoch 9: val_accuracy improved from 0.59221 to 0.60118, saving model to best_skin_disease_vgg19.h5\n",
            "965/965 [==============================] - 590s 611ms/step - loss: 1.0179 - accuracy: 0.5855 - val_loss: 1.0162 - val_accuracy: 0.6012\n",
            "Epoch 10/15\n",
            "965/965 [==============================] - ETA: 0s - loss: 1.0034 - accuracy: 0.5887\n",
            "Epoch 10: val_accuracy did not improve from 0.60118\n",
            "965/965 [==============================] - 590s 611ms/step - loss: 1.0034 - accuracy: 0.5887 - val_loss: 1.0167 - val_accuracy: 0.5963\n",
            "Epoch 11/15\n",
            "965/965 [==============================] - ETA: 0s - loss: 0.9943 - accuracy: 0.5985\n",
            "Epoch 11: val_accuracy did not improve from 0.60118\n",
            "965/965 [==============================] - 590s 612ms/step - loss: 0.9943 - accuracy: 0.5985 - val_loss: 1.0422 - val_accuracy: 0.5871\n",
            "Epoch 12/15\n",
            "268/965 [=======>......................] - ETA: 6:33 - loss: 0.9968 - accuracy: 0.6009"
          ]
        }
      ]
    },
    {
      "cell_type": "code",
      "source": [],
      "metadata": {
        "id": "xVyX4mmySr9I"
      },
      "execution_count": null,
      "outputs": []
    }
  ]
}